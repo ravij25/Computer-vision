{
 "cells": [
  {
   "cell_type": "code",
   "execution_count": 1,
   "id": "b0e1d3ab",
   "metadata": {},
   "outputs": [],
   "source": [
    "import cv2\n",
    "import face_recognition\n",
    "import os\n",
    "\n",
    "from cv2 import imread\n",
    "from PIL import Image\n",
    "import numpy as np\n",
    "import os\n",
    "import matplotlib.pyplot as plt\n",
    "import pickle\n",
    "\n",
    "import warnings\n",
    "warnings.filterwarnings('ignore')"
   ]
  },
  {
   "cell_type": "code",
   "execution_count": 2,
   "id": "7452e540",
   "metadata": {},
   "outputs": [],
   "source": [
    "sachin = face_recognition.load_image_file(r'D:\\AI\\python\\Python course\\Data_science\\data\\face_me\\sachin_train.jpg')\n",
    "sachin = cv2.cvtColor(sachin, cv2.COLOR_BGR2RGB)"
   ]
  },
  {
   "cell_type": "code",
   "execution_count": 22,
   "id": "b1ab9557",
   "metadata": {},
   "outputs": [],
   "source": [
    "imgTest = face_recognition.load_image_file(r'D:\\AI\\python\\Python course\\Data_science\\data\\face_me\\sachin_test1.jpg')\n",
    "imgTest = cv2.cvtColor(imgTest,cv2.COLOR_BGR2RGB)"
   ]
  },
  {
   "cell_type": "code",
   "execution_count": 23,
   "id": "08b39526",
   "metadata": {
    "scrolled": true
   },
   "outputs": [
    {
     "name": "stdout",
     "output_type": "stream",
     "text": [
      "[True] [0.56948486]\n"
     ]
    },
    {
     "data": {
      "text/plain": [
       "array([[[ 64,  79, 112],\n",
       "        [ 61,  76, 109],\n",
       "        [ 53,  68, 101],\n",
       "        ...,\n",
       "        [ 39,  42,  50],\n",
       "        [ 37,  40,  48],\n",
       "        [ 38,  41,  46]],\n",
       "\n",
       "       [[ 59,  74, 107],\n",
       "        [ 57,  72, 105],\n",
       "        [ 52,  67, 100],\n",
       "        ...,\n",
       "        [ 36,  39,  47],\n",
       "        [ 33,  36,  44],\n",
       "        [ 34,  37,  42]],\n",
       "\n",
       "       [[ 56,  71, 104],\n",
       "        [ 54,  69, 102],\n",
       "        [ 50,  65,  98],\n",
       "        ...,\n",
       "        [ 38,  41,  49],\n",
       "        [ 35,  38,  46],\n",
       "        [ 36,  39,  44]],\n",
       "\n",
       "       ...,\n",
       "\n",
       "       [[ 68,  75,  84],\n",
       "        [ 71,  78,  87],\n",
       "        [ 75,  82,  91],\n",
       "        ...,\n",
       "        [ 45,  37,  24],\n",
       "        [ 41,  33,  20],\n",
       "        [ 42,  34,  21]],\n",
       "\n",
       "       [[ 75,  79,  90],\n",
       "        [ 81,  85,  96],\n",
       "        [ 83,  88,  97],\n",
       "        ...,\n",
       "        [ 45,  37,  24],\n",
       "        [ 45,  37,  24],\n",
       "        [ 47,  39,  26]],\n",
       "\n",
       "       [[ 75,  79,  90],\n",
       "        [ 81,  85,  96],\n",
       "        [ 83,  88,  97],\n",
       "        ...,\n",
       "        [ 45,  37,  24],\n",
       "        [ 45,  37,  24],\n",
       "        [ 47,  39,  26]]], dtype=uint8)"
      ]
     },
     "execution_count": 23,
     "metadata": {},
     "output_type": "execute_result"
    }
   ],
   "source": [
    "faceLoc = face_recognition.face_locations(sachin)[0]\n",
    "encodesachin = face_recognition.face_encodings(sachin)[0]\n",
    "cv2.rectangle(sachin,(faceLoc[3],faceLoc[0]),(faceLoc[1],faceLoc[2]),(255,0,255),2)\n",
    " \n",
    "faceLocTest = face_recognition.face_locations(imgTest)[0]\n",
    "encodeTest = face_recognition.face_encodings(imgTest)[0]\n",
    "cv2.rectangle(imgTest,(faceLocTest[3],faceLocTest[0]),(faceLocTest[1],faceLocTest[2]),(255,0,255),2)\n",
    " \n",
    "results = face_recognition.compare_faces([encodesachin],encodeTest)\n",
    "faceDis = face_recognition.face_distance([encodesachin],encodeTest)\n",
    "print(results,faceDis)\n",
    "cv2.putText(imgTest,f'{results} {round(faceDis[0],2)}',(50,50),cv2.FONT_HERSHEY_COMPLEX,1,(0,0,255),2)"
   ]
  },
  {
   "cell_type": "code",
   "execution_count": 24,
   "id": "19aa7829",
   "metadata": {},
   "outputs": [
    {
     "data": {
      "text/plain": [
       "-1"
      ]
     },
     "execution_count": 24,
     "metadata": {},
     "output_type": "execute_result"
    }
   ],
   "source": [
    "cv2.imshow('sachin',sachin)\n",
    "cv2.imshow('sachin Test',imgTest)\n",
    "cv2.waitKey(0)\n"
   ]
  },
  {
   "cell_type": "code",
   "execution_count": null,
   "id": "43b4e9d4",
   "metadata": {},
   "outputs": [],
   "source": []
  }
 ],
 "metadata": {
  "kernelspec": {
   "display_name": "Python 3 (ipykernel)",
   "language": "python",
   "name": "python3"
  },
  "language_info": {
   "codemirror_mode": {
    "name": "ipython",
    "version": 3
   },
   "file_extension": ".py",
   "mimetype": "text/x-python",
   "name": "python",
   "nbconvert_exporter": "python",
   "pygments_lexer": "ipython3",
   "version": "3.9.13"
  }
 },
 "nbformat": 4,
 "nbformat_minor": 5
}
