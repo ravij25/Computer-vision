{
 "cells": [
  {
   "cell_type": "code",
   "execution_count": 1,
   "id": "e06fbb69",
   "metadata": {},
   "outputs": [],
   "source": [
    "import cv2\n",
    "import numpy as np\n",
    "\n",
    "# Load the cascade classifier\n",
    "face_cascade = cv2.CascadeClassifier(r\"D:\\AI\\data _sets\\facial data\\haarcascade_frontalface_alt.xml\")\n",
    "\n",
    "# Load the input image\n",
    "img = cv2.imread(r'D:\\AI\\python\\Python course\\Data_science\\data\\face_me\\pms.png')\n",
    "\n",
    "# Convert the input image to grayscale\n",
    "gray_img = cv2.cvtColor(img, cv2.COLOR_BGR2GRAY)\n",
    "\n",
    "# Detect faces in the input image\n",
    "faces = face_cascade.detectMultiScale(gray_img, scaleFactor=1.1, minNeighbors=5)\n",
    "\n",
    "# Names for each face\n",
    "names = [\"Lalbahudur sastri\", \"Nehru\", \"Narendra Modi\",\"Rajeev Gandhi\", \"Indira Gandhi\", \"manmohan singh\"]\n",
    "\n",
    "# Iterate over the faces detected\n",
    "for i, (x, y, w, h) in enumerate(faces):\n",
    "    # Draw a rectangle around the face\n",
    "    cv2.rectangle(img, (x, y), (x+w, y+h), (0, 255, 0), 2)\n",
    "    \n",
    "    # Put the name of the person above the rectangle\n",
    "    cv2.putText(img, names[i], (x, y - 10), cv2.FONT_HERSHEY_SIMPLEX, 0.5, (0, 255, 0), 2)\n",
    "\n",
    "# Display the output image\n",
    "cv2.imshow(\"Faces detected\", img)\n",
    "cv2.waitKey(0)\n",
    "cv2.destroyAllWindows()"
   ]
  },
  {
   "cell_type": "code",
   "execution_count": null,
   "id": "fc311a8e",
   "metadata": {},
   "outputs": [],
   "source": []
  }
 ],
 "metadata": {
  "kernelspec": {
   "display_name": "Python 3 (ipykernel)",
   "language": "python",
   "name": "python3"
  },
  "language_info": {
   "codemirror_mode": {
    "name": "ipython",
    "version": 3
   },
   "file_extension": ".py",
   "mimetype": "text/x-python",
   "name": "python",
   "nbconvert_exporter": "python",
   "pygments_lexer": "ipython3",
   "version": "3.9.13"
  }
 },
 "nbformat": 4,
 "nbformat_minor": 5
}
